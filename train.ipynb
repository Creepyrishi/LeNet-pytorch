{
 "cells": [
  {
   "cell_type": "code",
   "execution_count": 11,
   "id": "0646e28a-c068-4c75-892c-4e743d219e62",
   "metadata": {},
   "outputs": [],
   "source": [
    "import torch\n",
    "from torch import nn\n",
    "from torch.utils.data import DataLoader, Dataset\n",
    "import numpy as np\n",
    "import pandas as pd\n",
    "from torchmetrics import Accuracy"
   ]
  },
  {
   "cell_type": "code",
   "execution_count": 2,
   "id": "dbeeadd1-d51e-42b3-8586-74897be941d2",
   "metadata": {},
   "outputs": [
    {
     "name": "stdout",
     "output_type": "stream",
     "text": [
      "cuda\n"
     ]
    }
   ],
   "source": [
    "device = torch.device(\"cuda\" if torch.cuda.is_available() else \"cpu\")\n",
    "print(device)"
   ]
  },
  {
   "cell_type": "markdown",
   "id": "e1a9084b-651d-46c0-b8ad-1804969d19f9",
   "metadata": {},
   "source": [
    "<img alt=\"structure of the lenet network\"  width=\"864\" height=\"200\" src=\"https://d2l.ai/_images/lenet.svg\" style=\"color: transparent; height: auto; max-width: 100%;\">"
   ]
  },
  {
   "cell_type": "code",
   "execution_count": 3,
   "id": "42ab9583-f5ab-48fc-92f7-0054d8d2da81",
   "metadata": {},
   "outputs": [],
   "source": [
    "class LeNet(nn.Module):\n",
    "    def __init__(self):\n",
    "        super().__init__()\n",
    "\n",
    "        self.features = nn.Sequential(\n",
    "            #1\n",
    "            nn.Conv2d(in_channels = 1, out_channels= 6, kernel_size = 5), \n",
    "            nn.Tanh(), \n",
    "            nn.AvgPool2d(kernel_size = 2, stride = 2),\n",
    "\n",
    "            #2\n",
    "            nn.Conv2d(in_channels = 6, out_channels= 16, kernel_size = 5), \n",
    "            nn.Tanh(), \n",
    "            nn.AvgPool2d(kernel_size = 2, stride = 2)\n",
    "        )\n",
    "\n",
    "        self.classifier = nn.Sequential(\n",
    "            #3\n",
    "            nn.Flatten(),\n",
    "            nn.Linear(in_features = 16*4*4, out_features = 120),\n",
    "            nn.Tanh(),\n",
    "            #4\n",
    "            nn.Linear(in_features = 120, out_features = 84),\n",
    "            nn.Tanh(),\n",
    "            #5\n",
    "            nn.Linear(in_features = 84, out_features = 10),\n",
    "        )\n",
    "\n",
    "    def forward(self, input_):\n",
    "        y = self.features(input_)\n",
    "        y = self.classifier(y)\n",
    "        return y"
   ]
  },
  {
   "cell_type": "code",
   "execution_count": 4,
   "id": "bd380689-a5e6-48cc-8db6-75e35a644989",
   "metadata": {},
   "outputs": [],
   "source": [
    "class customData(Dataset):\n",
    "\n",
    "    def __init__(self, x, y):\n",
    "        self.x = x\n",
    "        self.y = y\n",
    "\n",
    "    def __getitem__(self, idx):\n",
    "        return self.x[idx], self.y[idx]\n",
    "\n",
    "    def __len__(self):\n",
    "        return len(self.x)\n",
    "        "
   ]
  },
  {
   "cell_type": "code",
   "execution_count": 14,
   "id": "4ab559aa-ad6c-456f-bd60-112e6a9767db",
   "metadata": {},
   "outputs": [],
   "source": [
    "def train(batched_dataset, X_valid, y_valid, learning_rate, epochs):\n",
    "    criterion = nn.CrossEntropyLoss()\n",
    "    optimizer = torch.optim.Adam(model.parameters(), lr=learning_rate)\n",
    "    accuracy = Accuracy(task=\"multiclass\", num_classes=10).to(device)\n",
    "    print(\"======================================================== \\n\\n\")\n",
    "    \n",
    "    for _ in range(epochs):\n",
    "        \n",
    "        total_epoch_Loss = 0\n",
    "        for X, y in batched_dataset:\n",
    "\n",
    "            X, y = X.to(device), y.to(device) \n",
    "\n",
    "            #forward pass\n",
    "            pred = model(X)\n",
    "            #Loss calculation \n",
    "            loss = criterion(pred, y)\n",
    "            #reset Grad\n",
    "            optimizer.zero_grad()\n",
    "            #backprop\n",
    "            loss.backward()\n",
    "            #upgrade Grad\n",
    "            optimizer.step()\n",
    "\n",
    "            total_epoch_Loss += loss.item()\n",
    "\n",
    "        avg_loss = total_epoch_Loss / len(batched_dataset)\n",
    "        print(f'Epochs: {_ + 1} | Loss: {avg_loss:.4f}')\n",
    "\n",
    "        if _ % 20 == 0:\n",
    "            \n",
    "            model.eval()\n",
    "            with torch.no_grad():    \n",
    "                X_valid, y_valid = X_valid.to(device), y_valid.to(device)\n",
    "                pred = model(X_valid)\n",
    "                loss = criterion(pred, y_valid)\n",
    "                preds = torch.argmax(pred, dim=1)\n",
    "                acc = accuracy(preds, y_valid)\n",
    "                print(\"###############################\")\n",
    "                print(f'Validation Loss: {loss.item():.4f} | Accuracy: {acc.item():.4f}')\n",
    "                print(\"###############################\")\n",
    "\n",
    "\n",
    "    print(\"========================================================\\n\\n\")"
   ]
  },
  {
   "cell_type": "code",
   "execution_count": 6,
   "id": "0639e4fe-dc63-4cb2-a4e4-3aae56277574",
   "metadata": {},
   "outputs": [
    {
     "data": {
      "text/plain": [
       "(60000, 785)"
      ]
     },
     "execution_count": 6,
     "metadata": {},
     "output_type": "execute_result"
    }
   ],
   "source": [
    "df = pd.read_csv(\"data/mnist_train.csv\")\n",
    "df.shape"
   ]
  },
  {
   "cell_type": "code",
   "execution_count": 7,
   "id": "5a8e179a-287a-448b-9d95-6718ab321089",
   "metadata": {},
   "outputs": [],
   "source": [
    "torch.manual_seed(0)\n",
    "y = df['label']\n",
    "y = torch.tensor(y, dtype=torch.long)\n",
    "X = df.drop('label', axis = 1).values\n",
    "X = torch.tensor(X, dtype=torch.float32).reshape(60000, 1, 28, 28)\n",
    "dataset = customData(X, y)\n",
    "batches = DataLoader(dataset, batch_size = 32 , shuffle= True)"
   ]
  },
  {
   "cell_type": "code",
   "execution_count": 8,
   "id": "4b3a8993-fbd8-4387-9b6c-d61efe49d52b",
   "metadata": {},
   "outputs": [],
   "source": [
    "df_t = pd.read_csv(\"data/mnist_test.csv\")\n",
    "\n",
    "y_test = df_t['label']\n",
    "y_test = torch.tensor(y_test, dtype=torch.long)\n",
    "X_test = df_t.drop('label', axis = 1).values\n",
    "X_test = torch.tensor(X_test, dtype=torch.float32).reshape(10000, 1, 28, 28)"
   ]
  },
  {
   "cell_type": "code",
   "execution_count": 15,
   "id": "baa6f361-527b-4d86-a49e-f2f42037797a",
   "metadata": {},
   "outputs": [
    {
     "name": "stdout",
     "output_type": "stream",
     "text": [
      "======================================================== \n",
      "\n",
      "\n",
      "Epochs: 1 | Loss: 0.1874\n",
      "###############################\n",
      "Validation Loss: 0.0779 | Accuracy: 0.9734\n",
      "###############################\n",
      "Epochs: 2 | Loss: 0.0634\n",
      "Epochs: 3 | Loss: 0.0465\n",
      "Epochs: 4 | Loss: 0.0403\n",
      "Epochs: 5 | Loss: 0.0334\n",
      "Epochs: 6 | Loss: 0.0276\n",
      "Epochs: 7 | Loss: 0.0249\n",
      "Epochs: 8 | Loss: 0.0231\n",
      "Epochs: 9 | Loss: 0.0199\n",
      "Epochs: 10 | Loss: 0.0183\n",
      "Epochs: 11 | Loss: 0.0149\n",
      "Epochs: 12 | Loss: 0.0144\n",
      "Epochs: 13 | Loss: 0.0134\n",
      "Epochs: 14 | Loss: 0.0150\n",
      "Epochs: 15 | Loss: 0.0123\n",
      "Epochs: 16 | Loss: 0.0128\n",
      "Epochs: 17 | Loss: 0.0121\n",
      "Epochs: 18 | Loss: 0.0097\n",
      "Epochs: 19 | Loss: 0.0090\n",
      "Epochs: 20 | Loss: 0.0093\n",
      "Epochs: 21 | Loss: 0.0096\n",
      "###############################\n",
      "Validation Loss: 0.0491 | Accuracy: 0.9881\n",
      "###############################\n",
      "Epochs: 22 | Loss: 0.0086\n",
      "Epochs: 23 | Loss: 0.0078\n",
      "Epochs: 24 | Loss: 0.0082\n",
      "Epochs: 25 | Loss: 0.0091\n",
      "Epochs: 26 | Loss: 0.0062\n",
      "Epochs: 27 | Loss: 0.0070\n",
      "Epochs: 28 | Loss: 0.0106\n",
      "Epochs: 29 | Loss: 0.0087\n",
      "Epochs: 30 | Loss: 0.0073\n",
      "Epochs: 31 | Loss: 0.0099\n",
      "Epochs: 32 | Loss: 0.0103\n",
      "Epochs: 33 | Loss: 0.0065\n",
      "Epochs: 34 | Loss: 0.0076\n",
      "Epochs: 35 | Loss: 0.0090\n",
      "Epochs: 36 | Loss: 0.0092\n",
      "Epochs: 37 | Loss: 0.0090\n",
      "Epochs: 38 | Loss: 0.0053\n",
      "Epochs: 39 | Loss: 0.0070\n",
      "Epochs: 40 | Loss: 0.0070\n",
      "Epochs: 41 | Loss: 0.0049\n",
      "###############################\n",
      "Validation Loss: 0.0576 | Accuracy: 0.9864\n",
      "###############################\n",
      "Epochs: 42 | Loss: 0.0083\n",
      "Epochs: 43 | Loss: 0.0071\n",
      "Epochs: 44 | Loss: 0.0087\n",
      "Epochs: 45 | Loss: 0.0062\n",
      "Epochs: 46 | Loss: 0.0059\n",
      "Epochs: 47 | Loss: 0.0060\n",
      "Epochs: 48 | Loss: 0.0076\n",
      "Epochs: 49 | Loss: 0.0060\n",
      "Epochs: 50 | Loss: 0.0059\n",
      "Epochs: 51 | Loss: 0.0050\n",
      "Epochs: 52 | Loss: 0.0071\n",
      "Epochs: 53 | Loss: 0.0067\n",
      "Epochs: 54 | Loss: 0.0073\n",
      "Epochs: 55 | Loss: 0.0053\n",
      "Epochs: 56 | Loss: 0.0052\n",
      "Epochs: 57 | Loss: 0.0057\n",
      "Epochs: 58 | Loss: 0.0047\n",
      "Epochs: 59 | Loss: 0.0046\n",
      "Epochs: 60 | Loss: 0.0061\n",
      "Epochs: 61 | Loss: 0.0050\n",
      "###############################\n",
      "Validation Loss: 0.0562 | Accuracy: 0.9883\n",
      "###############################\n",
      "Epochs: 62 | Loss: 0.0060\n",
      "Epochs: 63 | Loss: 0.0058\n",
      "Epochs: 64 | Loss: 0.0053\n",
      "Epochs: 65 | Loss: 0.0064\n",
      "Epochs: 66 | Loss: 0.0069\n",
      "Epochs: 67 | Loss: 0.0044\n",
      "Epochs: 68 | Loss: 0.0041\n",
      "Epochs: 69 | Loss: 0.0061\n",
      "Epochs: 70 | Loss: 0.0044\n",
      "Epochs: 71 | Loss: 0.0052\n",
      "Epochs: 72 | Loss: 0.0060\n",
      "Epochs: 73 | Loss: 0.0044\n",
      "Epochs: 74 | Loss: 0.0050\n",
      "Epochs: 75 | Loss: 0.0048\n",
      "Epochs: 76 | Loss: 0.0064\n",
      "Epochs: 77 | Loss: 0.0071\n",
      "Epochs: 78 | Loss: 0.0050\n",
      "Epochs: 79 | Loss: 0.0033\n",
      "Epochs: 80 | Loss: 0.0078\n",
      "Epochs: 81 | Loss: 0.0034\n",
      "###############################\n",
      "Validation Loss: 0.0532 | Accuracy: 0.9885\n",
      "###############################\n",
      "Epochs: 82 | Loss: 0.0053\n",
      "Epochs: 83 | Loss: 0.0044\n",
      "Epochs: 84 | Loss: 0.0061\n",
      "Epochs: 85 | Loss: 0.0051\n",
      "Epochs: 86 | Loss: 0.0064\n",
      "Epochs: 87 | Loss: 0.0048\n",
      "Epochs: 88 | Loss: 0.0038\n",
      "Epochs: 89 | Loss: 0.0037\n",
      "Epochs: 90 | Loss: 0.0039\n",
      "Epochs: 91 | Loss: 0.0043\n",
      "Epochs: 92 | Loss: 0.0059\n",
      "Epochs: 93 | Loss: 0.0035\n",
      "Epochs: 94 | Loss: 0.0034\n",
      "Epochs: 95 | Loss: 0.0049\n",
      "Epochs: 96 | Loss: 0.0042\n",
      "Epochs: 97 | Loss: 0.0045\n",
      "Epochs: 98 | Loss: 0.0056\n",
      "Epochs: 99 | Loss: 0.0036\n",
      "Epochs: 100 | Loss: 0.0046\n",
      "========================================================\n",
      "\n",
      "\n"
     ]
    }
   ],
   "source": [
    "model = LeNet().to(device)\n",
    "train(batched_dataset = batches, X_valid = X_test, y_valid = y_test, learning_rate = 0.001, epochs = 100)"
   ]
  },
  {
   "cell_type": "code",
   "execution_count": 18,
   "id": "78c35932-6d74-47f5-8691-ab82164c14b9",
   "metadata": {},
   "outputs": [],
   "source": [
    "torch.save(model.state_dict(), 'mnist_model.pt')"
   ]
  }
 ],
 "metadata": {
  "kernelspec": {
   "display_name": "Python (myenv)",
   "language": "python",
   "name": "myenv"
  },
  "language_info": {
   "codemirror_mode": {
    "name": "ipython",
    "version": 3
   },
   "file_extension": ".py",
   "mimetype": "text/x-python",
   "name": "python",
   "nbconvert_exporter": "python",
   "pygments_lexer": "ipython3",
   "version": "3.9.13"
  }
 },
 "nbformat": 4,
 "nbformat_minor": 5
}
